{
  "cells": [
    {
      "cell_type": "markdown",
      "metadata": {
        "id": "view-in-github",
        "colab_type": "text"
      },
      "source": [
        "<a href=\"https://colab.research.google.com/github/24f1001443/python/blob/main/pdsa/jupyter.ipynb\" target=\"_parent\"><img src=\"https://colab.research.google.com/assets/colab-badge.svg\" alt=\"Open In Colab\"/></a>"
      ]
    },
    {
      "cell_type": "markdown",
      "source": [
        "# week 1\n"
      ],
      "metadata": {
        "id": "WyiH0U15bepY"
      },
      "id": "WyiH0U15bepY"
    },
    {
      "cell_type": "code",
      "source": [
        "def prime(n):\n",
        "    (result,i) = (True,2)\n",
        "    while (result and (i<n)):\n",
        "        if (n%i)==0:\n",
        "            result = False\n",
        "        i = i+1\n",
        "    return (result)"
      ],
      "metadata": {
        "id": "gwdsQzbfbd56"
      },
      "id": "gwdsQzbfbd56",
      "execution_count": 3,
      "outputs": []
    },
    {
      "cell_type": "code",
      "source": [
        "def primediffs(n):\n",
        "    lastprime = 2\n",
        "    count = 1\n",
        "    pd = {}\n",
        "    for i in range(3,n+1):\n",
        "        if prime(i):\n",
        "            count = count + 1\n",
        "            d = i - lastprime\n",
        "            lastprime = i\n",
        "            if d in pd.keys():\n",
        "                pd[d] = pd[d] + 1\n",
        "            else:\n",
        "                pd[d] = 1\n",
        "    return (pd), count"
      ],
      "metadata": {
        "id": "AxXxgJoDmVLY"
      },
      "id": "AxXxgJoDmVLY",
      "execution_count": 4,
      "outputs": []
    },
    {
      "cell_type": "code",
      "source": [
        "primediffs(20)"
      ],
      "metadata": {
        "id": "0Z2P9QiGmaco",
        "outputId": "9f1ce944-589c-4b96-c719-a3020c02ef94",
        "colab": {
          "base_uri": "https://localhost:8080/"
        }
      },
      "id": "0Z2P9QiGmaco",
      "execution_count": 5,
      "outputs": [
        {
          "output_type": "execute_result",
          "data": {
            "text/plain": [
              "({1: 1, 2: 4, 4: 2}, 8)"
            ]
          },
          "metadata": {},
          "execution_count": 5
        }
      ]
    }
  ],
  "metadata": {
    "kernelspec": {
      "display_name": "Python 3",
      "name": "python3"
    },
    "language_info": {
      "name": "python"
    },
    "required_libs": [],
    "colab": {
      "provenance": [],
      "include_colab_link": true
    }
  },
  "nbformat": 4,
  "nbformat_minor": 5
}